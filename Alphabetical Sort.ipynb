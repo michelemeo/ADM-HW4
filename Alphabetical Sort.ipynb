{
 "cells": [
  {
   "cell_type": "markdown",
   "metadata": {},
   "source": [
    "## Build your own implementation of Counting Sort. If it's based (based, not copied!) on some reference on Internet, please cite it."
   ]
  },
  {
   "cell_type": "markdown",
   "metadata": {},
   "source": [
    "## I saw a implementation of this algorith in https://www.geeksforgeeks.org/counting-sort/, our algorith takes a list of numbers, we have to store an array of lenght equals of the maximun value of the list."
   ]
  },
  {
   "cell_type": "code",
   "execution_count": 76,
   "metadata": {},
   "outputs": [],
   "source": [
    "\n",
    "def Counting_Sort(arr): \n",
    "\n",
    "    #we store two arrays of lenght equals to the max value of the input list\n",
    "    output = [0] * (max(arr)+1)\n",
    "\n",
    "\n",
    "    count = [0] * (max(arr)+1) \n",
    "\n",
    "\n",
    "    ans = [0] * len(arr)\n",
    "\n",
    "    #for each number we count the occurrence and insert it into the i-th cell\n",
    "    for i in arr: \n",
    "        count[i] += 1\n",
    "    #we fill cells with the sum of the previous cells\n",
    "    for i in range(max(arr)+1): \n",
    "        count[i] += count[i-1] \n",
    "\n",
    "    #insert in the output vector the numbers in the respective cells \n",
    "    #(obviously the occurrences are respected)\n",
    "    for i in range(len(arr)):\n",
    "        output[count[arr[i]]-1] = arr[i] \n",
    "        count[arr[i]] -= 1\n",
    "\n",
    "    #the ans vector is the final one\n",
    "    #with a length equal to that of the initial vector(the output vector have in the final a lot of 0)\n",
    "    for i in range(len(arr)): \n",
    "        ans[i] = output[i] \n",
    "    return ans \n",
    "\n",
    "\n"
   ]
  },
  {
   "cell_type": "code",
   "execution_count": 78,
   "metadata": {},
   "outputs": [],
   "source": [
    "l = [1,2,3,54,36,3,20,123,41,45,2,54,2,87,23]\n"
   ]
  },
  {
   "cell_type": "code",
   "execution_count": 79,
   "metadata": {
    "scrolled": true
   },
   "outputs": [
    {
     "data": {
      "text/plain": [
       "[0, 1, 2, 2, 2, 3, 3, 20, 23, 36, 41, 45, 54, 54, 87]"
      ]
     },
     "execution_count": 79,
     "metadata": {},
     "output_type": "execute_result"
    }
   ],
   "source": [
    "Counting_Sort(l)"
   ]
  },
  {
   "cell_type": "markdown",
   "metadata": {},
   "source": [
    "## Build an algorithm, based on your implementation of Counting Sort, that receives in input a list with all the letters of the alphabet (not in alphabetical order), and returns the list ordered according to alphabetical order. Discuss time complexity (theoretically and empirically)."
   ]
  },
  {
   "cell_type": "markdown",
   "metadata": {},
   "source": [
    "very similar with the first one, we used the unicode indices of these characters to get a range on which to work the counting sort"
   ]
  },
  {
   "cell_type": "code",
   "execution_count": 11,
   "metadata": {},
   "outputs": [],
   "source": [
    "def List_of_letters(arr):\n",
    "    arr = list(map(str.lower,arr))\n",
    "\n",
    "    output = [0] * 256\n",
    "\n",
    "    count = [0] * 256\n",
    "\n",
    "    ans = [0] * len(arr)\n",
    "\n",
    "    \n",
    "    \n",
    "    for i in arr: \n",
    "        count[ord(i)] += 1\n",
    "\n",
    "    for i in range(256): \n",
    "        count[i] += count[i-1] \n",
    "\n",
    "    for i in range(len(arr)): \n",
    "        output[count[ord(arr[i])]-1] = arr[i] \n",
    "        count[ord(arr[i])] -= 1\n",
    "    \n",
    "    new_idx = [0]*len(arr)\n",
    "    for i in range(len(arr)): \n",
    "        ans[i] = output[i]\n",
    "    return ans \n",
    "\n"
   ]
  },
  {
   "cell_type": "code",
   "execution_count": 13,
   "metadata": {},
   "outputs": [
    {
     "data": {
      "text/plain": [
       "['e', 'g', 's']"
      ]
     },
     "execution_count": 13,
     "metadata": {},
     "output_type": "execute_result"
    }
   ],
   "source": [
    "l = ['g','s','e']\n",
    "List_of_letters(l)"
   ]
  },
  {
   "cell_type": "markdown",
   "metadata": {},
   "source": [
    "## This is a variation of the second exercise, this function return the index of the character in the original list, we need this aux function fro the third exercise becouse we want to remember the initial index"
   ]
  },
  {
   "cell_type": "code",
   "execution_count": 4,
   "metadata": {},
   "outputs": [],
   "source": [
    "def List_of_letters_aux(arr):\n",
    "    arr = list(map(str.lower,arr))\n",
    "\n",
    "    output = [0] * 256\n",
    "\n",
    "    count = [0] * 256\n",
    "\n",
    "    ans = [0] * len(arr)\n",
    "    index = [\"0\"]*(256) # This list will be useful for part 3, in order to retrieve the initial position of each letter in a list of words\n",
    "\n",
    "    \n",
    "    \n",
    "    for i in arr: \n",
    "        count[ord(i)] += 1\n",
    "\n",
    "    for i in range(256): \n",
    "        count[i] += count[i-1] \n",
    "\n",
    "    for i in range(len(arr)): \n",
    "        output[count[ord(arr[i])]-1] = arr[i] \n",
    "        index[count[ord(arr[i])]-1] = i\n",
    "        count[ord(arr[i])] -= 1\n",
    "    \n",
    "    new_idx = [0]*len(arr)\n",
    "    for i in range(len(arr)): \n",
    "        ans[i] = output[i]\n",
    "        new_idx[i] = index[i]\n",
    "    return new_idx \n",
    "\n"
   ]
  },
  {
   "cell_type": "markdown",
   "metadata": {},
   "source": [
    "## Build an algorithm, based on your implementation of Counting Sort, that receives in input a list of length m, that contains words with maximum length equal to n, and returns the list ordered according to alphabetical order. Discuss time complexity (theoretically and empirically).\n"
   ]
  },
  {
   "cell_type": "code",
   "execution_count": 14,
   "metadata": {},
   "outputs": [],
   "source": [
    "def Counting_Sort_word(l):\n",
    "    \n",
    "    \n",
    "    #if the list have only one element return it\n",
    "    if len(l) < 2: \n",
    "        return l\n",
    "    \n",
    "    elif all(len(set([l[j][0] for j in range(len(l))]))==len(l) for j in range(len(l))):\n",
    "        \n",
    "        first = [l[j][0] for j in range(len(l))]\n",
    "        return([l[i] for i in List_of_letters(first)])\n",
    "        \n",
    "        \n",
    "    #trasform the list with only lower character\n",
    "    array = list(map(str.lower,l)) \n",
    "    \n",
    "    \n",
    "    #We create two list,one with the input list, the other with the trasformed one\n",
    "    head, *tail = array\n",
    "    h_old, *t_old = l\n",
    "    \n",
    "    sort_1 = []\n",
    "    sort_2 = []\n",
    "        \n",
    "    for k in range(len(tail)): \n",
    "        i = 0\n",
    "        if tail[k][0] == head[i] and len(tail[k]) > 1:\n",
    "            # If the characters in the head is the same of in tail we dont need to sort them\n",
    "            while i<len(tail[k])-1 and i<len(head)-1 and tail[k][i] == head[i]: \n",
    "                i+=1\n",
    "                \n",
    "                \n",
    "        if i == len(tail[k])-1 and i != len(head)-1:\n",
    "            sort_1.append(t_old[k])\n",
    "        elif i == len(head)-1 and i != len(tail[k])-1: \n",
    "            sort_2.append(t_old[k])\n",
    "\n",
    "        else: \n",
    "            tosort = [tail[k][i],head[i]]\n",
    "            \n",
    "            # We sort the two words according to the first different character\n",
    "  \n",
    "            ind = List_of_letters_aux(tosort)\n",
    "            \n",
    "            sortedl = [tosort[u] for u in ind]\n",
    "            \n",
    "            # if tosort == sorted1 means that the two lists are sorted\n",
    "            if tosort == sortedl :\n",
    "                sort_1.append(t_old[k])\n",
    "            else:\n",
    "                sort_2.append(t_old[k])\n",
    "\n",
    "    less = Counting_Sort_word(sort_1)\n",
    "    more = Counting_Sort_word(sort_2)\n",
    "    return less + [h_old] + more\n"
   ]
  },
  {
   "cell_type": "code",
   "execution_count": 15,
   "metadata": {},
   "outputs": [
    {
     "name": "stdout",
     "output_type": "stream",
     "text": [
      "Enter a list of words: sad asdf a fa sa asdf\n"
     ]
    }
   ],
   "source": [
    "l1 = input(\"Enter a list of words: \").split(\" \")"
   ]
  },
  {
   "cell_type": "code",
   "execution_count": 16,
   "metadata": {},
   "outputs": [
    {
     "data": {
      "text/plain": [
       "['a', 'asdf', 'asdf', 'fa', 'sa', 'sad']"
      ]
     },
     "execution_count": 16,
     "metadata": {},
     "output_type": "execute_result"
    }
   ],
   "source": [
    "Counting_Sort_word(l1)"
   ]
  },
  {
   "cell_type": "markdown",
   "metadata": {},
   "source": [
    "# Complexity"
   ]
  },
  {
   "cell_type": "markdown",
   "metadata": {},
   "source": [
    "In this exercise we have developed an algorithm that can sort a list of words using what was seen in the counting_sort, the power of the Counting sort is in fact the possibility to order a vector of objects without having to compare them"
   ]
  },
  {
   "cell_type": "markdown",
   "metadata": {},
   "source": [
    "In the first two exercise we can sort the two list in linear time; now for sorting a list of words is much more complex.\n",
    "Let's start by analyzing the algorithm, obviously the best case is when all the words have the first different letters, in this case we only use one time the __aux Function__.\n",
    "the peggire case occurs when all the words have the same characters."
   ]
  },
  {
   "cell_type": "code",
   "execution_count": null,
   "metadata": {},
   "outputs": [],
   "source": []
  },
  {
   "cell_type": "code",
   "execution_count": null,
   "metadata": {},
   "outputs": [],
   "source": []
  },
  {
   "cell_type": "code",
   "execution_count": null,
   "metadata": {},
   "outputs": [],
   "source": []
  },
  {
   "cell_type": "code",
   "execution_count": null,
   "metadata": {},
   "outputs": [],
   "source": []
  }
 ],
 "metadata": {
  "kernelspec": {
   "display_name": "Python 3",
   "language": "python",
   "name": "python3"
  },
  "language_info": {
   "codemirror_mode": {
    "name": "ipython",
    "version": 3
   },
   "file_extension": ".py",
   "mimetype": "text/x-python",
   "name": "python",
   "nbconvert_exporter": "python",
   "pygments_lexer": "ipython3",
   "version": "3.7.3"
  }
 },
 "nbformat": 4,
 "nbformat_minor": 2
}
