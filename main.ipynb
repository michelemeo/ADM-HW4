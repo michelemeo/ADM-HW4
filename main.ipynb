{
 "cells": [
  {
   "cell_type": "markdown",
   "metadata": {},
   "source": [
    "# Homework 4 - Hard Coding"
   ]
  },
  {
   "cell_type": "markdown",
   "metadata": {},
   "source": [
    "## Group #12: Vishal Matta, Michele Meo, Giulio Rago"
   ]
  },
  {
   "cell_type": "markdown",
   "metadata": {},
   "source": [
    "# Hashing Task"
   ]
  },
  {
   "cell_type": "markdown",
   "metadata": {},
   "source": [
    "### Import data and libraries"
   ]
  },
  {
   "cell_type": "code",
   "execution_count": 98,
   "metadata": {},
   "outputs": [],
   "source": [
    "import os\n",
    "import time\n",
    "import math\n",
    "import matplotlib.pyplot as plt\n",
    "import numpy as np\n",
    "from scipy import stats"
   ]
  },
  {
   "cell_type": "markdown",
   "metadata": {},
   "source": [
    "We import the **hashing_lib** module that contains all the functions used to solve the hashing task:\n",
    "you can find it in the **utils** folder of the repository.  \n",
    "It is suggested to read the script every time a function imported from it is used to better understand the code."
   ]
  },
  {
   "cell_type": "code",
   "execution_count": 13,
   "metadata": {},
   "outputs": [],
   "source": [
    "from utils import hashing_lib as hs"
   ]
  },
  {
   "cell_type": "markdown",
   "metadata": {},
   "source": [
    "We import the data in two differents lists, then we delete the last element as it contains an empty string.  \n",
    "We find out that the passwords to be stored in the filter are 100000000 and the passwords we want  \n",
    "to compare with the filter, once we stored the first set of passwords, are 39000000."
   ]
  },
  {
   "cell_type": "code",
   "execution_count": 14,
   "metadata": {},
   "outputs": [],
   "source": [
    "with open (\"/Users/Michele/PycharmProjects/ADM-HW4/DATA/passwords1.txt\", \"r\") as file:\n",
    "    passwords1 = list(file.read().split(\"\\n\"))\n",
    "    \n",
    "with open (\"/Users/Michele/PycharmProjects/ADM-HW4/DATA/passwords2.txt\", \"r\") as file:\n",
    "    passwords2 = list(file.read().split(\"\\n\"))    \n",
    "\n",
    "passwords1.pop()\n",
    "passwords2.pop();"
   ]
  },
  {
   "cell_type": "code",
   "execution_count": 15,
   "metadata": {},
   "outputs": [
    {
     "name": "stdout",
     "output_type": "stream",
     "text": [
      "100000000\n",
      "39000000\n"
     ]
    }
   ],
   "source": [
    "print(len(passwords1))\n",
    "print(len(passwords2))"
   ]
  },
  {
   "cell_type": "markdown",
   "metadata": {},
   "source": [
    "### Preliminary considerations"
   ]
  },
  {
   "cell_type": "markdown",
   "metadata": {},
   "source": [
    "Given the false positive rate we are willing to have, $p$, and the number of items that will be stored in filter, $n$,  \n",
    "the website https://hackernoon.com/probabilistic-data-structures-bloom-filter-5374112a7832  provides us some \n",
    "quantitative methods to estimate the needed size of the filter, $m$, and the number of hash functions to be applied, $k$, to have the required $p$.  \n",
    "In particular, we have chosen to accept a rate of false positives:\n",
    "\n",
    "\\begin{equation}\n",
    "p = 0.01  -->  p = 1\\%.\n",
    "\\end{equation}\n",
    "\n",
    "Given $n=100000000$, we estimate the size of the filter and the number of needed hash functions with the following formulas:\n",
    "\n",
    "\\begin{equation}\n",
    "m \\approx -{{nlnp}\\over{(ln2)^2}}\n",
    "\\end{equation}\n",
    "\n",
    "\\begin{equation}\n",
    "k \\approx {{m}\\over{n}}ln2\n",
    "\\end{equation}\n",
    "\n",
    "as we do in the following code cell."
   ]
  },
  {
   "cell_type": "code",
   "execution_count": 16,
   "metadata": {},
   "outputs": [
    {
     "name": "stdout",
     "output_type": "stream",
     "text": [
      "We choose a rate of false positives of about 0.01 : given the number of passwords to be registered in the filter, 100000000 , we need at least a filter of size 958505837 and 7 different hash functions.\n"
     ]
    }
   ],
   "source": [
    "p = 0.01\n",
    "n = len(passwords1)\n",
    "m = int(-(n*math.log(p))/(math.log(2)**2))\n",
    "k = round((m/n)*math.log(2))\n",
    "print(\"We choose a rate of false positives of about\", p, \": given the number of passwords \" \n",
    "      \"to be registered in the filter,\", n, \", we need at least a filter of size\", m, \"and\", k, \n",
    "      \"different hash functions.\")"
   ]
  },
  {
   "cell_type": "markdown",
   "metadata": {},
   "source": [
    "Given the estimate obtained for the filter size, we choose a size $m$ equal to the first power of 2 higher than such estimate.  \n",
    "For this choice of size the number of necessary hash functions does not change with respect to the previous estimate and remains $k = 7$; moreover, by choosing a larger size we are more confident about possible collisions."
   ]
  },
  {
   "cell_type": "code",
   "execution_count": 17,
   "metadata": {},
   "outputs": [],
   "source": [
    "m = 2**30"
   ]
  },
  {
   "cell_type": "markdown",
   "metadata": {},
   "source": [
    "### Hash Function discussion"
   ]
  },
  {
   "cell_type": "markdown",
   "metadata": {},
   "source": [
    "The code for our own hash function is written in the function *hash_function* in the **hashing_lib.py** script.  \n",
    "Here we describe the concept behind our hash function and, to be clearer, we apply it by hand on a string example '/DXhI;GNl*nbCzKso=?@'.  \n",
    "Given an index of the string, $i$, the first prime number smaller than $m$, ${prime}_0$, and another prime number near the size of the filter, $prime$, the proposed hash function does (in the example we choose $i=1$):\n",
    "- takes the i-th-last character of the password and converts it to ascii code, in the example @-->64;\n",
    "- takes the last character of the ascii number obtained before, in the example 64-->4;\n",
    "- takes the (10+i)-th-last characters of the passwords, converts them in their ascii code and pick only the last numbers for each ascii number obtained, in the example:   \n",
    "@-->64-->4; ?-->63-->3; =-->61-->1; o-->111-->1 .......... G-->71-->1;\n",
    "- joins all the numbers obtained by the previous step in a string and converts this string in an int number:  \n",
    "43115527802881\n",
    "- converts the i-th character of the password in its ascii code, in the example /-->47, then apply the following formula to this number and the number obtained the previous step, in the example:\n",
    "\\begin{equation}\n",
    "(43115527802881\\cdot{prime}+47)\\;\\textrm{mod}({prime}_0)\n",
    "\\end{equation}\n",
    "and we have our hash value given the password.  \n",
    "\n",
    "With this method it is possible to obtain different hash functions by changing the $i$ and $prime$ parameters described above: we do it in the *multi_hash_function* in **hashing_lib** module and to evaluate prime numbers near the size of the filter we use the funcion *LastPrimes* in the same module.  \n",
    "The fact of considering a number of different numbers based on the ascii code of the i-th-last character, allows us to change the order of magnitude of the hash value for each different passowrd.  \n",
    "Furthermore, always considering only the last number of the ascii conversion allows us to obtain a uniform distribution."
   ]
  },
  {
   "cell_type": "markdown",
   "metadata": {},
   "source": [
    "### Testing our Hash Function"
   ]
  },
  {
   "cell_type": "markdown",
   "metadata": {},
   "source": [
    "To minimize the probability of having collisions, the hash function must generate values uniformly distributed between 0 and the filter size.  \n",
    "Below, we verify that the values calculated on the first 1000000 passwords are uniformly distributed."
   ]
  },
  {
   "cell_type": "code",
   "execution_count": 88,
   "metadata": {},
   "outputs": [],
   "source": [
    "hash_values = bloom_filter.testing_hash_function(passwords1[:1000000])"
   ]
  },
  {
   "cell_type": "code",
   "execution_count": 95,
   "metadata": {},
   "outputs": [
    {
     "data": {
      "image/png": "[encoded data removed]",
      "text/plain": [
       "<Figure size 576x360 with 1 Axes>"
      ]
     },
     "metadata": {
      "needs_background": "light"
     },
     "output_type": "display_data"
    }
   ],
   "source": [
    "fig = plt.figure(figsize=(8,5))\n",
    "plt.xlabel(\"Hash Values\")\n",
    "plt.ylabel(\"Frequency\")\n",
    "plt.hist(hash_values, bins=100)\n",
    "plt.show()"
   ]
  },
  {
   "cell_type": "markdown",
   "metadata": {},
   "source": [
    "### Bloom Filter implementation"
   ]
  },
  {
   "cell_type": "markdown",
   "metadata": {},
   "source": [
    "Let's create a BloomFilter object of size $m$ (read the script **hashing_lib.py**)."
   ]
  },
  {
   "cell_type": "code",
   "execution_count": 18,
   "metadata": {},
   "outputs": [],
   "source": [
    "bloom_filter = hs.BloomFilter(m)"
   ]
  },
  {
   "cell_type": "markdown",
   "metadata": {},
   "source": [
    "We apply 7 different hash functions to the set of passwords1 to store them on our filter, then we apply the same 7 hash functions to the set of passwords2 to verify which of these are already stored in the filter.  \n",
    "Furthermore, as requested, we calculate the execution time: this could be higher than the one strictly necessary to store passwords1 in the filter and check passwords2 because we also store all the passwords that are duplicated in a list (for a possible bonus task)."
   ]
  },
  {
   "cell_type": "code",
   "execution_count": 19,
   "metadata": {},
   "outputs": [],
   "source": [
    "start = time.time()\n",
    "\n",
    "bloom_filter.multi_hash_functions(passwords1, 7)\n",
    "positives = bloom_filter.hash_searching(passwords2, 7)\n",
    "\n",
    "end = time.time()"
   ]
  },
  {
   "cell_type": "markdown",
   "metadata": {},
   "source": [
    "Finally we can save the probable duplicates in a txt file and evaluate the execution time of our algorithm."
   ]
  },
  {
   "cell_type": "code",
   "execution_count": 11,
   "metadata": {},
   "outputs": [],
   "source": [
    "with open('duplicates.txt', 'w') as f:\n",
    "    for item in bloom_filter.duplicates:\n",
    "        f.write(\"%s\\n\" % item)"
   ]
  },
  {
   "cell_type": "code",
   "execution_count": 123,
   "metadata": {},
   "outputs": [],
   "source": [
    "run_time = int(end-start)\n",
    "h = run_time/(60*60)\n",
    "m = (h-int(h))*60\n",
    "s = int((m-int(m))*60)"
   ]
  },
  {
   "cell_type": "code",
   "execution_count": 124,
   "metadata": {},
   "outputs": [],
   "source": [
    "h, m = int(h), int(m)"
   ]
  },
  {
   "cell_type": "markdown",
   "metadata": {},
   "source": [
    "Some characteristic quantities of our Bloom Filter are the following."
   ]
  },
  {
   "cell_type": "code",
   "execution_count": 127,
   "metadata": {},
   "outputs": [
    {
     "name": "stdout",
     "output_type": "stream",
     "text": [
      "The number of hash functions we have used is: 7\n",
      "The number of possible duplicates that we found is: 14145218\n",
      "The probability of finding a false positive is: 0.01\n",
      "An estimate for the number of true duplicates is: 14003765\n",
      "The execution time of our algorithm is about: 12651 s ( 3 h 30 m 51 s)\n"
     ]
    }
   ],
   "source": [
    "print(\"The number of hash functions we have used is:\", k)\n",
    "print(\"The number of possible duplicates that we found is:\", positives)\n",
    "print(\"The probability of finding a false positive is:\", p)\n",
    "print(\"An estimate for the number of true duplicates is:\", int(positives-positives*p))\n",
    "print(\"The execution time of our algorithm is about:\", run_time, \"s (\", h,\"h\",m,\"m\",s,\"s)\")"
   ]
  },
  {
   "cell_type": "markdown",
   "metadata": {},
   "source": [
    "# Alphabetical Sort"
   ]
  },
  {
   "cell_type": "code",
   "execution_count": null,
   "metadata": {},
   "outputs": [],
   "source": []
  },
  {
   "cell_type": "code",
   "execution_count": null,
   "metadata": {},
   "outputs": [],
   "source": []
  },
  {
   "cell_type": "code",
   "execution_count": null,
   "metadata": {},
   "outputs": [],
   "source": []
  }
 ],
 "metadata": {
  "kernelspec": {
   "display_name": "Python 3",
   "language": "python",
   "name": "python3"
  },
  "language_info": {
   "codemirror_mode": {
    "name": "ipython",
    "version": 3
   },
   "file_extension": ".py",
   "mimetype": "text/x-python",
   "name": "python",
   "nbconvert_exporter": "python",
   "pygments_lexer": "ipython3",
   "version": "3.7.3"
  }
 },
 "nbformat": 4,
 "nbformat_minor": 2
}
