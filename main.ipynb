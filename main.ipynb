{
 "cells": [
  {
   "cell_type": "markdown",
   "metadata": {},
   "source": [
    "# Homework 4 - Hard Coding"
   ]
  },
  {
   "cell_type": "markdown",
   "metadata": {},
   "source": [
    "### Group #12: Vishal Matta, Michele Meo, Giulio Rago"
   ]
  },
  {
   "cell_type": "markdown",
   "metadata": {},
   "source": [
    "## Hashing Task"
   ]
  },
  {
   "cell_type": "code",
   "execution_count": 1,
   "metadata": {},
   "outputs": [],
   "source": [
    "import os\n",
    "import time\n",
    "import math\n",
    "import matplotlib.pyplot as plt"
   ]
  },
  {
   "cell_type": "code",
   "execution_count": 2,
   "metadata": {},
   "outputs": [],
   "source": [
    "from utils import hashing_lib as hs"
   ]
  },
  {
   "cell_type": "code",
   "execution_count": 3,
   "metadata": {},
   "outputs": [],
   "source": [
    "with open (\"/Users/Michele/PycharmProjects/ADM-HW4/DATA/passwords1.txt\", \"r\") as file:\n",
    "    passwords1 = list(file.read().split(\"\\n\"))\n",
    "    \n",
    "with open (\"/Users/Michele/PycharmProjects/ADM-HW4/DATA/passwords2.txt\", \"r\") as file:\n",
    "    passwords2 = list(file.read().split(\"\\n\"))    \n",
    "\n",
    "passwords1.pop()\n",
    "passwords2.pop();"
   ]
  },
  {
   "cell_type": "code",
   "execution_count": 4,
   "metadata": {},
   "outputs": [
    {
     "name": "stdout",
     "output_type": "stream",
     "text": [
      "100000000\n",
      "39000000\n"
     ]
    }
   ],
   "source": [
    "print(len(passwords1))\n",
    "print(len(passwords2))"
   ]
  },
  {
   "cell_type": "code",
   "execution_count": 5,
   "metadata": {},
   "outputs": [
    {
     "name": "stdout",
     "output_type": "stream",
     "text": [
      "We choose a rate of false positives of about 0.01 : given the number of passwordsto be registered in the filter, 100000000 , we need at least a filter of size 958505837 and 7 different hash functions.\n"
     ]
    }
   ],
   "source": [
    "p = 0.01\n",
    "n = len(passwords1)\n",
    "m = int(-(n*math.log(p))/(math.log(2)**2))\n",
    "k = round((m/n)*math.log(2))\n",
    "print(\"We choose a rate of false positives of about\", p, \": given the number of passwords\" \n",
    "      \"to be registered in the filter,\", n, \", we need at least a filter of size\", m, \"and\", k, \n",
    "      \"different hash functions.\")"
   ]
  },
  {
   "cell_type": "code",
   "execution_count": 6,
   "metadata": {},
   "outputs": [],
   "source": [
    "m = 2**30"
   ]
  },
  {
   "cell_type": "code",
   "execution_count": 7,
   "metadata": {},
   "outputs": [],
   "source": [
    "bloom_filter = hs.BloomFilter(m)"
   ]
  },
  {
   "cell_type": "code",
   "execution_count": 10,
   "metadata": {
    "collapsed": true
   },
   "outputs": [
    {
     "data": {
      "image/png": "[encoded data removed]",
      "text/plain": [
       "<Figure size 432x288 with 1 Axes>"
      ]
     },
     "metadata": {
      "needs_background": "light"
     },
     "output_type": "display_data"
    }
   ],
   "source": [
    "values = bloom_filter.hash_function(passwords1, bloom_filter.primes[2], 0)\n",
    "bloom_filter.add_to_filter(values)\n",
    "\n",
    "values = bloom_filter.hash_function(passwords1, bloom_filter.primes[15], 1)\n",
    "bloom_filter.add_to_filter(values)\n",
    "\n",
    "values = bloom_filter.hash_function(passwords1, bloom_filter.primes[30], 2)\n",
    "bloom_filter.add_to_filter(values)\n",
    "\n",
    "values = bloom_filter.hash_function(passwords1, bloom_filter.primes[45], 3)\n",
    "bloom_filter.add_to_filter(values)\n",
    "\n",
    "values = bloom_filter.hash_function(passwords1, bloom_filter.primes[60], 4)\n",
    "bloom_filter.add_to_filter(values)\n",
    "\n",
    "values = bloom_filter.hash_function(passwords1, bloom_filter.primes[75], 5)\n",
    "bloom_filter.add_to_filter(values)\n",
    "\n",
    "values = bloom_filter.hash_function(passwords1, bloom_filter.primes[90], 6)\n",
    "bloom_filter.add_to_filter(values)"
   ]
  },
  {
   "cell_type": "code",
   "execution_count": null,
   "metadata": {},
   "outputs": [],
   "source": []
  }
 ],
 "metadata": {
  "kernelspec": {
   "display_name": "Python 3",
   "language": "python",
   "name": "python3"
  },
  "language_info": {
   "codemirror_mode": {
    "name": "ipython",
    "version": 3
   },
   "file_extension": ".py",
   "mimetype": "text/x-python",
   "name": "python",
   "nbconvert_exporter": "python",
   "pygments_lexer": "ipython3",
   "version": "3.7.3"
  }
 },
 "nbformat": 4,
 "nbformat_minor": 2
}
