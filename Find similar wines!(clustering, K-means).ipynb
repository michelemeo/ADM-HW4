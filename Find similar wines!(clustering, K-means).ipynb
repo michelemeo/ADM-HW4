{
 "cells": [
  {
   "cell_type": "markdown",
   "metadata": {},
   "source": [
    "### Libraries"
   ]
  },
  {
   "cell_type": "code",
   "execution_count": null,
   "metadata": {
    "collapsed": true
   },
   "outputs": [],
   "source": [
    "import pandas as pd\n",
    "import numpy as np\n",
    "import matplotlib.pyplot as plt\n",
    "%matplotlib inline\n",
    "from sklearn.datasets import load_wine\n",
    "import sys\n",
    "import random as rd"
   ]
  },
  {
   "cell_type": "markdown",
   "metadata": {},
   "source": [
    "# Importing the Dataset"
   ]
  },
  {
   "cell_type": "code",
   "execution_count": 3,
   "metadata": {},
   "outputs": [
    {
     "data": {
      "text/plain": [
       "array([0, 1, 2])"
      ]
     },
     "execution_count": 3,
     "metadata": {},
     "output_type": "execute_result"
    }
   ],
   "source": [
    "dataset = load_wine()\n",
    "dataset.target[[10, 80, 140]]"
   ]
  },
  {
   "cell_type": "code",
   "execution_count": 4,
   "metadata": {},
   "outputs": [
    {
     "name": "stdout",
     "output_type": "stream",
     "text": [
      "dataset.shape\t (178, 13) \n",
      "target.shape \t (178,)\n"
     ]
    }
   ],
   "source": [
    "print('dataset.shape\\t',dataset['data'].shape,\n",
    "      '\\ntarget.shape \\t',dataset['target'].shape)"
   ]
  },
  {
   "cell_type": "markdown",
   "metadata": {},
   "source": [
    "# Figuring out the data set."
   ]
  },
  {
   "cell_type": "code",
   "execution_count": 5,
   "metadata": {},
   "outputs": [
    {
     "data": {
      "text/html": [
       "<div>\n",
       "<style scoped>\n",
       "    .dataframe tbody tr th:only-of-type {\n",
       "        vertical-align: middle;\n",
       "    }\n",
       "\n",
       "    .dataframe tbody tr th {\n",
       "        vertical-align: top;\n",
       "    }\n",
       "\n",
       "    .dataframe thead th {\n",
       "        text-align: right;\n",
       "    }\n",
       "</style>\n",
       "<table border=\"1\" class=\"dataframe\">\n",
       "  <thead>\n",
       "    <tr style=\"text-align: right;\">\n",
       "      <th></th>\n",
       "      <th>alcohol</th>\n",
       "      <th>malic_acid</th>\n",
       "      <th>ash</th>\n",
       "      <th>alcalinity_of_ash</th>\n",
       "      <th>magnesium</th>\n",
       "      <th>total_phenols</th>\n",
       "      <th>flavanoids</th>\n",
       "      <th>nonflavanoid_phenols</th>\n",
       "      <th>proanthocyanins</th>\n",
       "      <th>color_intensity</th>\n",
       "      <th>hue</th>\n",
       "      <th>od280/od315_of_diluted_wines</th>\n",
       "      <th>proline</th>\n",
       "      <th>target</th>\n",
       "      <th>class</th>\n",
       "    </tr>\n",
       "  </thead>\n",
       "  <tbody>\n",
       "    <tr>\n",
       "      <th>0</th>\n",
       "      <td>14.23</td>\n",
       "      <td>1.71</td>\n",
       "      <td>2.43</td>\n",
       "      <td>15.6</td>\n",
       "      <td>127.0</td>\n",
       "      <td>2.80</td>\n",
       "      <td>3.06</td>\n",
       "      <td>0.28</td>\n",
       "      <td>2.29</td>\n",
       "      <td>5.64</td>\n",
       "      <td>1.04</td>\n",
       "      <td>3.92</td>\n",
       "      <td>1065.0</td>\n",
       "      <td>0</td>\n",
       "      <td>class_0</td>\n",
       "    </tr>\n",
       "    <tr>\n",
       "      <th>1</th>\n",
       "      <td>13.20</td>\n",
       "      <td>1.78</td>\n",
       "      <td>2.14</td>\n",
       "      <td>11.2</td>\n",
       "      <td>100.0</td>\n",
       "      <td>2.65</td>\n",
       "      <td>2.76</td>\n",
       "      <td>0.26</td>\n",
       "      <td>1.28</td>\n",
       "      <td>4.38</td>\n",
       "      <td>1.05</td>\n",
       "      <td>3.40</td>\n",
       "      <td>1050.0</td>\n",
       "      <td>0</td>\n",
       "      <td>class_0</td>\n",
       "    </tr>\n",
       "    <tr>\n",
       "      <th>2</th>\n",
       "      <td>13.16</td>\n",
       "      <td>2.36</td>\n",
       "      <td>2.67</td>\n",
       "      <td>18.6</td>\n",
       "      <td>101.0</td>\n",
       "      <td>2.80</td>\n",
       "      <td>3.24</td>\n",
       "      <td>0.30</td>\n",
       "      <td>2.81</td>\n",
       "      <td>5.68</td>\n",
       "      <td>1.03</td>\n",
       "      <td>3.17</td>\n",
       "      <td>1185.0</td>\n",
       "      <td>0</td>\n",
       "      <td>class_0</td>\n",
       "    </tr>\n",
       "    <tr>\n",
       "      <th>3</th>\n",
       "      <td>14.37</td>\n",
       "      <td>1.95</td>\n",
       "      <td>2.50</td>\n",
       "      <td>16.8</td>\n",
       "      <td>113.0</td>\n",
       "      <td>3.85</td>\n",
       "      <td>3.49</td>\n",
       "      <td>0.24</td>\n",
       "      <td>2.18</td>\n",
       "      <td>7.80</td>\n",
       "      <td>0.86</td>\n",
       "      <td>3.45</td>\n",
       "      <td>1480.0</td>\n",
       "      <td>0</td>\n",
       "      <td>class_0</td>\n",
       "    </tr>\n",
       "    <tr>\n",
       "      <th>4</th>\n",
       "      <td>13.24</td>\n",
       "      <td>2.59</td>\n",
       "      <td>2.87</td>\n",
       "      <td>21.0</td>\n",
       "      <td>118.0</td>\n",
       "      <td>2.80</td>\n",
       "      <td>2.69</td>\n",
       "      <td>0.39</td>\n",
       "      <td>1.82</td>\n",
       "      <td>4.32</td>\n",
       "      <td>1.04</td>\n",
       "      <td>2.93</td>\n",
       "      <td>735.0</td>\n",
       "      <td>0</td>\n",
       "      <td>class_0</td>\n",
       "    </tr>\n",
       "  </tbody>\n",
       "</table>\n",
       "</div>"
      ],
      "text/plain": [
       "   alcohol  malic_acid   ash  alcalinity_of_ash  magnesium  total_phenols  \\\n",
       "0    14.23        1.71  2.43               15.6      127.0           2.80   \n",
       "1    13.20        1.78  2.14               11.2      100.0           2.65   \n",
       "2    13.16        2.36  2.67               18.6      101.0           2.80   \n",
       "3    14.37        1.95  2.50               16.8      113.0           3.85   \n",
       "4    13.24        2.59  2.87               21.0      118.0           2.80   \n",
       "\n",
       "   flavanoids  nonflavanoid_phenols  proanthocyanins  color_intensity   hue  \\\n",
       "0        3.06                  0.28             2.29             5.64  1.04   \n",
       "1        2.76                  0.26             1.28             4.38  1.05   \n",
       "2        3.24                  0.30             2.81             5.68  1.03   \n",
       "3        3.49                  0.24             2.18             7.80  0.86   \n",
       "4        2.69                  0.39             1.82             4.32  1.04   \n",
       "\n",
       "   od280/od315_of_diluted_wines  proline  target    class  \n",
       "0                          3.92   1065.0       0  class_0  \n",
       "1                          3.40   1050.0       0  class_0  \n",
       "2                          3.17   1185.0       0  class_0  \n",
       "3                          3.45   1480.0       0  class_0  \n",
       "4                          2.93    735.0       0  class_0  "
      ]
     },
     "execution_count": 5,
     "metadata": {},
     "output_type": "execute_result"
    }
   ],
   "source": [
    "features = pd.DataFrame(data=dataset['data'],columns=dataset['feature_names'])\n",
    "data = features\n",
    "data['target']=dataset['target']\n",
    "data['class']=data['target'].map(lambda ind: dataset['target_names'][ind])\n",
    "data.head()"
   ]
  },
  {
   "cell_type": "markdown",
   "metadata": {},
   "source": [
    "### Working with some of few specific varaibles"
   ]
  },
  {
   "cell_type": "code",
   "execution_count": 133,
   "metadata": {},
   "outputs": [
    {
     "data": {
      "text/plain": [
       "array([[3.06, 0.28],\n",
       "       [2.76, 0.26],\n",
       "       [3.24, 0.3 ],\n",
       "       [3.49, 0.24],\n",
       "       [2.69, 0.39],\n",
       "       [3.39, 0.34],\n",
       "       [2.52, 0.3 ],\n",
       "       [2.51, 0.31],\n",
       "       [2.98, 0.29],\n",
       "       [3.15, 0.22],\n",
       "       [3.32, 0.22],\n",
       "       [2.43, 0.26],\n",
       "       [2.76, 0.29],\n",
       "       [3.69, 0.43],\n",
       "       [3.64, 0.29],\n",
       "       [2.91, 0.3 ],\n",
       "       [3.14, 0.33],\n",
       "       [3.4 , 0.4 ],\n",
       "       [3.93, 0.32],\n",
       "       [3.03, 0.17],\n",
       "       [3.17, 0.24],\n",
       "       [2.41, 0.25],\n",
       "       [2.88, 0.27],\n",
       "       [2.37, 0.26],\n",
       "       [2.61, 0.28],\n",
       "       [2.68, 0.47],\n",
       "       [2.94, 0.34],\n",
       "       [2.19, 0.27],\n",
       "       [2.97, 0.37],\n",
       "       [2.33, 0.26],\n",
       "       [3.25, 0.29],\n",
       "       [3.19, 0.22],\n",
       "       [2.69, 0.42],\n",
       "       [2.74, 0.5 ],\n",
       "       [2.53, 0.29],\n",
       "       [2.98, 0.26],\n",
       "       [2.68, 0.34],\n",
       "       [2.43, 0.29],\n",
       "       [2.64, 0.28],\n",
       "       [3.04, 0.2 ],\n",
       "       [3.29, 0.34],\n",
       "       [2.68, 0.27],\n",
       "       [3.56, 0.17],\n",
       "       [2.63, 0.32],\n",
       "       [3.  , 0.28],\n",
       "       [2.65, 0.3 ],\n",
       "       [3.17, 0.27],\n",
       "       [3.39, 0.21],\n",
       "       [2.92, 0.32],\n",
       "       [3.54, 0.32],\n",
       "       [3.27, 0.17],\n",
       "       [2.99, 0.22],\n",
       "       [3.74, 0.32],\n",
       "       [2.79, 0.39],\n",
       "       [2.9 , 0.21],\n",
       "       [2.78, 0.2 ],\n",
       "       [3.  , 0.26],\n",
       "       [3.23, 0.31],\n",
       "       [3.67, 0.19],\n",
       "       [0.57, 0.28],\n",
       "       [1.09, 0.63],\n",
       "       [1.41, 0.53],\n",
       "       [1.79, 0.32],\n",
       "       [3.1 , 0.19],\n",
       "       [1.75, 0.45],\n",
       "       [2.65, 0.37],\n",
       "       [3.18, 0.26],\n",
       "       [2.  , 0.27],\n",
       "       [1.3 , 0.55],\n",
       "       [1.28, 0.14],\n",
       "       [1.02, 0.37],\n",
       "       [2.86, 0.21],\n",
       "       [1.84, 0.27],\n",
       "       [2.89, 0.21],\n",
       "       [2.14, 0.13],\n",
       "       [1.57, 0.34],\n",
       "       [2.03, 0.24],\n",
       "       [1.32, 0.43],\n",
       "       [1.85, 0.35],\n",
       "       [2.55, 0.43],\n",
       "       [2.26, 0.3 ],\n",
       "       [2.53, 0.26],\n",
       "       [1.58, 0.4 ],\n",
       "       [1.59, 0.61],\n",
       "       [2.21, 0.22],\n",
       "       [1.94, 0.3 ],\n",
       "       [1.69, 0.43],\n",
       "       [1.61, 0.4 ],\n",
       "       [1.69, 0.48],\n",
       "       [1.59, 0.42],\n",
       "       [1.5 , 0.52],\n",
       "       [1.25, 0.5 ],\n",
       "       [1.46, 0.58],\n",
       "       [2.25, 0.25],\n",
       "       [2.26, 0.17],\n",
       "       [2.27, 0.32],\n",
       "       [0.99, 0.14],\n",
       "       [2.5 , 0.29],\n",
       "       [3.75, 0.24],\n",
       "       [2.99, 0.45],\n",
       "       [2.17, 0.26],\n",
       "       [1.36, 0.29],\n",
       "       [2.11, 0.34],\n",
       "       [1.64, 0.37],\n",
       "       [1.92, 0.32],\n",
       "       [1.84, 0.66],\n",
       "       [2.03, 0.37],\n",
       "       [1.76, 0.48],\n",
       "       [2.04, 0.39],\n",
       "       [2.92, 0.29],\n",
       "       [2.58, 0.24],\n",
       "       [2.27, 0.26],\n",
       "       [2.03, 0.6 ],\n",
       "       [2.01, 0.42],\n",
       "       [2.29, 0.43],\n",
       "       [2.17, 0.52],\n",
       "       [1.6 , 0.3 ],\n",
       "       [2.09, 0.34],\n",
       "       [1.25, 0.43],\n",
       "       [1.64, 0.37],\n",
       "       [2.79, 0.32],\n",
       "       [5.08, 0.47],\n",
       "       [2.13, 0.43],\n",
       "       [2.65, 0.3 ],\n",
       "       [3.03, 0.21],\n",
       "       [2.65, 0.37],\n",
       "       [3.15, 0.39],\n",
       "       [2.24, 0.58],\n",
       "       [2.45, 0.4 ],\n",
       "       [1.75, 0.42],\n",
       "       [1.25, 0.21],\n",
       "       [1.22, 0.24],\n",
       "       [1.09, 0.27],\n",
       "       [1.2 , 0.17],\n",
       "       [0.58, 0.6 ],\n",
       "       [0.66, 0.63],\n",
       "       [0.47, 0.53],\n",
       "       [0.6 , 0.63],\n",
       "       [0.48, 0.58],\n",
       "       [0.6 , 0.53],\n",
       "       [0.5 , 0.53],\n",
       "       [0.5 , 0.37],\n",
       "       [0.52, 0.5 ],\n",
       "       [0.8 , 0.47],\n",
       "       [0.78, 0.29],\n",
       "       [0.55, 0.43],\n",
       "       [0.34, 0.4 ],\n",
       "       [0.65, 0.47],\n",
       "       [0.76, 0.45],\n",
       "       [1.39, 0.34],\n",
       "       [1.57, 0.22],\n",
       "       [1.36, 0.24],\n",
       "       [1.28, 0.26],\n",
       "       [0.83, 0.61],\n",
       "       [0.58, 0.53],\n",
       "       [0.63, 0.61],\n",
       "       [0.83, 0.48],\n",
       "       [0.58, 0.63],\n",
       "       [1.31, 0.53],\n",
       "       [1.1 , 0.52],\n",
       "       [0.92, 0.5 ],\n",
       "       [0.56, 0.5 ],\n",
       "       [0.6 , 0.6 ],\n",
       "       [0.7 , 0.4 ],\n",
       "       [0.68, 0.41],\n",
       "       [0.47, 0.52],\n",
       "       [0.92, 0.43],\n",
       "       [0.66, 0.4 ],\n",
       "       [0.84, 0.39],\n",
       "       [0.96, 0.27],\n",
       "       [0.49, 0.4 ],\n",
       "       [0.51, 0.48],\n",
       "       [0.7 , 0.44],\n",
       "       [0.61, 0.52],\n",
       "       [0.75, 0.43],\n",
       "       [0.69, 0.43],\n",
       "       [0.68, 0.53],\n",
       "       [0.76, 0.56]])"
      ]
     },
     "execution_count": 133,
     "metadata": {},
     "output_type": "execute_result"
    }
   ],
   "source": [
    "X = data.iloc[:,[6,7]].values\n",
    "X"
   ]
  },
  {
   "cell_type": "code",
   "execution_count": 66,
   "metadata": {
    "collapsed": true
   },
   "outputs": [],
   "source": [
    "m=X.shape[0] #number of training examples\n",
    "n=X.shape[1] #number of features. Here n=2\n",
    "n_iter=100"
   ]
  },
  {
   "cell_type": "code",
   "execution_count": 68,
   "metadata": {
    "collapsed": true
   },
   "outputs": [],
   "source": [
    "K=3 # Total number of clusters"
   ]
  },
  {
   "cell_type": "markdown",
   "metadata": {},
   "source": [
    "### Now we need to Initialize the centroids randomly from the data points. Here, each column will be the centroids of one cluster. "
   ]
  },
  {
   "cell_type": "code",
   "execution_count": 70,
   "metadata": {
    "collapsed": true
   },
   "outputs": [],
   "source": [
    "Centroids=np.array([]).reshape(n,0) \n",
    "for i in range(K):\n",
    "    rand=rd.randint(0,m-1)\n",
    "    Centroids=np.c_[Centroids,X[rand]]"
   ]
  },
  {
   "cell_type": "markdown",
   "metadata": {},
   "source": [
    "### Computing the euclidian distance from the centroid and assigning the cluster based on the minimal distance"
   ]
  },
  {
   "cell_type": "code",
   "execution_count": 72,
   "metadata": {
    "collapsed": true
   },
   "outputs": [],
   "source": [
    "Output={}\n",
    "EuclidianDistance=np.array([]).reshape(m,0)\n",
    "for k in range(K):\n",
    "    tempDist=np.sum((X-Centroids[:,k])**2,axis=1)\n",
    "    EuclidianDistance=np.c_[EuclidianDistance,tempDist]\n",
    "C=np.argmin(EuclidianDistance,axis=1)+1"
   ]
  },
  {
   "cell_type": "markdown",
   "metadata": {},
   "source": [
    "### Regrouping the data points based on the cluster index C and store in the Output dictionary. The mean of separated clusters is also calculated and has been assigned as new centroids. Here, Y is a temporary dictionary which stores the solution for one particular iteration."
   ]
  },
  {
   "cell_type": "code",
   "execution_count": 77,
   "metadata": {
    "collapsed": true
   },
   "outputs": [],
   "source": [
    "Y={}\n",
    "for k in range(K):\n",
    "    Y[k+1]=np.array([]).reshape(2,0)\n",
    "for i in range(m):\n",
    "    Y[C[i]]=np.c_[Y[C[i]],X[i]]\n",
    "     \n",
    "for k in range(K):\n",
    "    Y[k+1]=Y[k+1].T\n",
    "    \n",
    "for k in range(K):\n",
    "     Centroids[:,k]=np.mean(Y[k+1],axis=0)\n",
    "Output=Y"
   ]
  },
  {
   "cell_type": "markdown",
   "metadata": {},
   "source": [
    "### The original unclustered data"
   ]
  },
  {
   "cell_type": "code",
   "execution_count": 78,
   "metadata": {},
   "outputs": [
    {
     "data": {
      "image/png": "[encoded data removed]",
      "text/plain": [
       "<Figure size 432x288 with 1 Axes>"
      ]
     },
     "metadata": {
      "needs_background": "light"
     },
     "output_type": "display_data"
    }
   ],
   "source": [
    "plt.scatter(X[:,0],X[:,1],c='black',label='unclustered data')\n",
    "plt.xlabel('flavanoids')\n",
    "plt.ylabel('nonflavanoid_phenols')\n",
    "plt.legend()\n",
    "plt.title('Plot of data points')\n",
    "plt.show()"
   ]
  },
  {
   "cell_type": "markdown",
   "metadata": {},
   "source": [
    "### Finally,  The clustered data"
   ]
  },
  {
   "cell_type": "code",
   "execution_count": 79,
   "metadata": {
    "scrolled": true
   },
   "outputs": [
    {
     "data": {
      "image/png": "[encoded data removed]",
      "text/plain": [
       "<Figure size 432x288 with 1 Axes>"
      ]
     },
     "metadata": {
      "needs_background": "light"
     },
     "output_type": "display_data"
    }
   ],
   "source": [
    "color=['red','blue','green']\n",
    "labels=['cluster1','cluster2','cluster3']\n",
    "for k in range(K):\n",
    "    plt.scatter(Output[k+1][:,0],Output[k+1][:,1],c=color[k],label=labels[k])\n",
    "plt.scatter(Centroids[0,:],Centroids[1,:],s=300,c='yellow',label='Centroids')\n",
    "plt.xlabel('flavanoids')\n",
    "plt.ylabel('nonflavanoid_phenols')\n",
    "plt.legend()\n",
    "plt.show()"
   ]
  },
  {
   "cell_type": "code",
   "execution_count": 126,
   "metadata": {},
   "outputs": [
    {
     "data": {
      "image/png": "[encoded data removed]",
      "text/plain": [
       "<Figure size 432x288 with 1 Axes>"
      ]
     },
     "metadata": {
      "needs_background": "light"
     },
     "output_type": "display_data"
    }
   ],
   "source": [
    "#Implementing the same algorithm using sklearn libraries\n",
    "# Using the elbow method to find the optimal number of clusters\n",
    "from sklearn.cluster import KMeans\n",
    "wcss = []\n",
    "for i in range(1, 11):\n",
    "    kmeans = KMeans(n_clusters = i, init = 'k-means++', random_state = True)\n",
    "    kmeans.fit(X)\n",
    "    wcss.append(kmeans.inertia_)\n",
    "plt.plot(range(1, 11), wcss)\n",
    "plt.title('The Elbow Method')\n",
    "plt.xlabel('Number of clusters')\n",
    "plt.ylabel('WCSS')\n",
    "plt.show()"
   ]
  },
  {
   "cell_type": "code",
   "execution_count": 135,
   "metadata": {},
   "outputs": [
    {
     "data": {
      "image/png": "[encoded data removed]",
      "text/plain": [
       "<Figure size 432x288 with 1 Axes>"
      ]
     },
     "metadata": {
      "needs_background": "light"
     },
     "output_type": "display_data"
    }
   ],
   "source": [
    "# Fitting K-Means to the dataset\n",
    "kmeans = KMeans(n_clusters = 3, init = 'k-means++', random_state = True)\n",
    "y_kmeans = kmeans.fit_predict(X)\n",
    "# Visualising the clusters\n",
    "plt.scatter(X[y_kmeans == 0, 0], X[y_kmeans == 0, 1], s = 50, c = 'red', label = 'Cluster 1')\n",
    "plt.scatter(X[y_kmeans == 1, 0], X[y_kmeans == 1, 1], s = 50, c = 'blue', label = 'Cluster 2')\n",
    "plt.scatter(X[y_kmeans == 2, 0], X[y_kmeans == 2, 1], s = 50, c = 'green', label = 'Cluster 3')\n",
    "plt.scatter(kmeans.cluster_centers_[:, 0], kmeans.cluster_centers_[:, 1], s = 300, c = 'yellow', label = 'Centroids')\n",
    "plt.title('Wine data')\n",
    "plt.xlabel('Variables')\n",
    "plt.ylabel('Clustering')\n",
    "plt.legend()\n",
    "plt.show()"
   ]
  },
  {
   "cell_type": "markdown",
   "metadata": {},
   "source": [
    "### From both the clustering it can be concluded the cluster formed using SKlearn libaray is exactly the same. So the derived function works efficiently. "
   ]
  },
  {
   "cell_type": "markdown",
   "metadata": {},
   "source": [
    "### Clustering using 4 variables"
   ]
  },
  {
   "cell_type": "code",
   "execution_count": 136,
   "metadata": {},
   "outputs": [
    {
     "data": {
      "text/plain": [
       "array([[2.8 , 3.06, 0.28, 2.29],\n",
       "       [2.65, 2.76, 0.26, 1.28],\n",
       "       [2.8 , 3.24, 0.3 , 2.81],\n",
       "       [3.85, 3.49, 0.24, 2.18],\n",
       "       [2.8 , 2.69, 0.39, 1.82],\n",
       "       [3.27, 3.39, 0.34, 1.97],\n",
       "       [2.5 , 2.52, 0.3 , 1.98],\n",
       "       [2.6 , 2.51, 0.31, 1.25],\n",
       "       [2.8 , 2.98, 0.29, 1.98],\n",
       "       [2.98, 3.15, 0.22, 1.85],\n",
       "       [2.95, 3.32, 0.22, 2.38],\n",
       "       [2.2 , 2.43, 0.26, 1.57],\n",
       "       [2.6 , 2.76, 0.29, 1.81],\n",
       "       [3.1 , 3.69, 0.43, 2.81],\n",
       "       [3.3 , 3.64, 0.29, 2.96],\n",
       "       [2.85, 2.91, 0.3 , 1.46],\n",
       "       [2.8 , 3.14, 0.33, 1.97],\n",
       "       [2.95, 3.4 , 0.4 , 1.72],\n",
       "       [3.3 , 3.93, 0.32, 1.86],\n",
       "       [2.7 , 3.03, 0.17, 1.66],\n",
       "       [3.  , 3.17, 0.24, 2.1 ],\n",
       "       [2.41, 2.41, 0.25, 1.98],\n",
       "       [2.61, 2.88, 0.27, 1.69],\n",
       "       [2.48, 2.37, 0.26, 1.46],\n",
       "       [2.53, 2.61, 0.28, 1.66],\n",
       "       [2.63, 2.68, 0.47, 1.92],\n",
       "       [2.85, 2.94, 0.34, 1.45],\n",
       "       [2.4 , 2.19, 0.27, 1.35],\n",
       "       [2.95, 2.97, 0.37, 1.76],\n",
       "       [2.65, 2.33, 0.26, 1.98],\n",
       "       [3.  , 3.25, 0.29, 2.38],\n",
       "       [2.86, 3.19, 0.22, 1.95],\n",
       "       [2.42, 2.69, 0.42, 1.97],\n",
       "       [2.95, 2.74, 0.5 , 1.35],\n",
       "       [2.35, 2.53, 0.29, 1.54],\n",
       "       [2.7 , 2.98, 0.26, 1.86],\n",
       "       [2.6 , 2.68, 0.34, 1.36],\n",
       "       [2.45, 2.43, 0.29, 1.44],\n",
       "       [2.4 , 2.64, 0.28, 1.37],\n",
       "       [3.  , 3.04, 0.2 , 2.08],\n",
       "       [3.15, 3.29, 0.34, 2.34],\n",
       "       [2.45, 2.68, 0.27, 1.48],\n",
       "       [3.25, 3.56, 0.17, 1.7 ],\n",
       "       [2.64, 2.63, 0.32, 1.66],\n",
       "       [3.  , 3.  , 0.28, 2.03],\n",
       "       [2.85, 2.65, 0.3 , 1.25],\n",
       "       [3.25, 3.17, 0.27, 2.19],\n",
       "       [3.1 , 3.39, 0.21, 2.14],\n",
       "       [2.75, 2.92, 0.32, 2.38],\n",
       "       [2.88, 3.54, 0.32, 2.08],\n",
       "       [2.72, 3.27, 0.17, 2.91],\n",
       "       [2.45, 2.99, 0.22, 2.29],\n",
       "       [3.88, 3.74, 0.32, 1.87],\n",
       "       [3.  , 2.79, 0.39, 1.68],\n",
       "       [2.6 , 2.9 , 0.21, 1.62],\n",
       "       [2.96, 2.78, 0.2 , 2.45],\n",
       "       [3.2 , 3.  , 0.26, 2.03],\n",
       "       [3.  , 3.23, 0.31, 1.66],\n",
       "       [3.4 , 3.67, 0.19, 2.04],\n",
       "       [1.98, 0.57, 0.28, 0.42],\n",
       "       [2.05, 1.09, 0.63, 0.41],\n",
       "       [2.02, 1.41, 0.53, 0.62],\n",
       "       [2.1 , 1.79, 0.32, 0.73],\n",
       "       [3.5 , 3.1 , 0.19, 1.87],\n",
       "       [1.89, 1.75, 0.45, 1.03],\n",
       "       [2.42, 2.65, 0.37, 2.08],\n",
       "       [2.98, 3.18, 0.26, 2.28],\n",
       "       [2.11, 2.  , 0.27, 1.04],\n",
       "       [2.53, 1.3 , 0.55, 0.42],\n",
       "       [1.85, 1.28, 0.14, 2.5 ],\n",
       "       [1.1 , 1.02, 0.37, 1.46],\n",
       "       [2.95, 2.86, 0.21, 1.87],\n",
       "       [1.88, 1.84, 0.27, 1.03],\n",
       "       [3.3 , 2.89, 0.21, 1.96],\n",
       "       [3.38, 2.14, 0.13, 1.65],\n",
       "       [1.61, 1.57, 0.34, 1.15],\n",
       "       [1.95, 2.03, 0.24, 1.46],\n",
       "       [1.72, 1.32, 0.43, 0.95],\n",
       "       [1.9 , 1.85, 0.35, 2.76],\n",
       "       [2.83, 2.55, 0.43, 1.95],\n",
       "       [2.42, 2.26, 0.3 , 1.43],\n",
       "       [2.2 , 2.53, 0.26, 1.77],\n",
       "       [2.  , 1.58, 0.4 , 1.4 ],\n",
       "       [1.65, 1.59, 0.61, 1.62],\n",
       "       [2.2 , 2.21, 0.22, 2.35],\n",
       "       [2.2 , 1.94, 0.3 , 1.46],\n",
       "       [1.78, 1.69, 0.43, 1.56],\n",
       "       [1.92, 1.61, 0.4 , 1.34],\n",
       "       [1.95, 1.69, 0.48, 1.35],\n",
       "       [2.2 , 1.59, 0.42, 1.38],\n",
       "       [1.6 , 1.5 , 0.52, 1.64],\n",
       "       [1.45, 1.25, 0.5 , 1.63],\n",
       "       [1.38, 1.46, 0.58, 1.62],\n",
       "       [2.45, 2.25, 0.25, 1.99],\n",
       "       [3.02, 2.26, 0.17, 1.35],\n",
       "       [2.5 , 2.27, 0.32, 3.28],\n",
       "       [1.6 , 0.99, 0.14, 1.56],\n",
       "       [2.55, 2.5 , 0.29, 1.77],\n",
       "       [3.52, 3.75, 0.24, 1.95],\n",
       "       [2.85, 2.99, 0.45, 2.81],\n",
       "       [2.23, 2.17, 0.26, 1.4 ],\n",
       "       [1.45, 1.36, 0.29, 1.35],\n",
       "       [2.56, 2.11, 0.34, 1.31],\n",
       "       [2.5 , 1.64, 0.37, 1.42],\n",
       "       [2.2 , 1.92, 0.32, 1.48],\n",
       "       [1.68, 1.84, 0.66, 1.42],\n",
       "       [1.65, 2.03, 0.37, 1.63],\n",
       "       [1.38, 1.76, 0.48, 1.63],\n",
       "       [2.36, 2.04, 0.39, 2.08],\n",
       "       [2.74, 2.92, 0.29, 2.49],\n",
       "       [3.18, 2.58, 0.24, 3.58],\n",
       "       [2.55, 2.27, 0.26, 1.22],\n",
       "       [1.75, 2.03, 0.6 , 1.05],\n",
       "       [2.48, 2.01, 0.42, 1.44],\n",
       "       [2.56, 2.29, 0.43, 1.04],\n",
       "       [2.46, 2.17, 0.52, 2.01],\n",
       "       [1.98, 1.6 , 0.3 , 1.53],\n",
       "       [2.  , 2.09, 0.34, 1.61],\n",
       "       [1.63, 1.25, 0.43, 0.83],\n",
       "       [2.  , 1.64, 0.37, 1.87],\n",
       "       [2.9 , 2.79, 0.32, 1.83],\n",
       "       [3.18, 5.08, 0.47, 1.87],\n",
       "       [2.2 , 2.13, 0.43, 1.71],\n",
       "       [2.62, 2.65, 0.3 , 2.01],\n",
       "       [2.86, 3.03, 0.21, 2.91],\n",
       "       [2.6 , 2.65, 0.37, 1.35],\n",
       "       [2.74, 3.15, 0.39, 1.77],\n",
       "       [2.13, 2.24, 0.58, 1.76],\n",
       "       [2.22, 2.45, 0.4 , 1.9 ],\n",
       "       [2.1 , 1.75, 0.42, 1.35],\n",
       "       [1.51, 1.25, 0.21, 0.94],\n",
       "       [1.3 , 1.22, 0.24, 0.83],\n",
       "       [1.15, 1.09, 0.27, 0.83],\n",
       "       [1.7 , 1.2 , 0.17, 0.84],\n",
       "       [2.  , 0.58, 0.6 , 1.25],\n",
       "       [1.62, 0.66, 0.63, 0.94],\n",
       "       [1.38, 0.47, 0.53, 0.8 ],\n",
       "       [1.79, 0.6 , 0.63, 1.1 ],\n",
       "       [1.62, 0.48, 0.58, 0.88],\n",
       "       [2.32, 0.6 , 0.53, 0.81],\n",
       "       [1.54, 0.5 , 0.53, 0.75],\n",
       "       [1.4 , 0.5 , 0.37, 0.64],\n",
       "       [1.55, 0.52, 0.5 , 0.55],\n",
       "       [2.  , 0.8 , 0.47, 1.02],\n",
       "       [1.38, 0.78, 0.29, 1.14],\n",
       "       [1.5 , 0.55, 0.43, 1.3 ],\n",
       "       [0.98, 0.34, 0.4 , 0.68],\n",
       "       [1.7 , 0.65, 0.47, 0.86],\n",
       "       [1.93, 0.76, 0.45, 1.25],\n",
       "       [1.41, 1.39, 0.34, 1.14],\n",
       "       [1.4 , 1.57, 0.22, 1.25],\n",
       "       [1.48, 1.36, 0.24, 1.26],\n",
       "       [2.2 , 1.28, 0.26, 1.56],\n",
       "       [1.8 , 0.83, 0.61, 1.87],\n",
       "       [1.48, 0.58, 0.53, 1.4 ],\n",
       "       [1.74, 0.63, 0.61, 1.55],\n",
       "       [1.8 , 0.83, 0.48, 1.56],\n",
       "       [1.9 , 0.58, 0.63, 1.14],\n",
       "       [2.8 , 1.31, 0.53, 2.7 ],\n",
       "       [2.6 , 1.1 , 0.52, 2.29],\n",
       "       [2.3 , 0.92, 0.5 , 1.04],\n",
       "       [1.83, 0.56, 0.5 , 0.8 ],\n",
       "       [1.65, 0.6 , 0.6 , 0.96],\n",
       "       [1.39, 0.7 , 0.4 , 0.94],\n",
       "       [1.35, 0.68, 0.41, 1.03],\n",
       "       [1.28, 0.47, 0.52, 1.15],\n",
       "       [1.7 , 0.92, 0.43, 1.46],\n",
       "       [1.48, 0.66, 0.4 , 0.97],\n",
       "       [1.55, 0.84, 0.39, 1.54],\n",
       "       [1.98, 0.96, 0.27, 1.11],\n",
       "       [1.25, 0.49, 0.4 , 0.73],\n",
       "       [1.39, 0.51, 0.48, 0.64],\n",
       "       [1.68, 0.7 , 0.44, 1.24],\n",
       "       [1.68, 0.61, 0.52, 1.06],\n",
       "       [1.8 , 0.75, 0.43, 1.41],\n",
       "       [1.59, 0.69, 0.43, 1.35],\n",
       "       [1.65, 0.68, 0.53, 1.46],\n",
       "       [2.05, 0.76, 0.56, 1.35]])"
      ]
     },
     "execution_count": 136,
     "metadata": {},
     "output_type": "execute_result"
    }
   ],
   "source": [
    "X = data.iloc[:,5:9].values\n",
    "X"
   ]
  },
  {
   "cell_type": "code",
   "execution_count": 104,
   "metadata": {
    "collapsed": true
   },
   "outputs": [],
   "source": [
    "m=X.shape[0] #number of training examples\n",
    "n=X.shape[1] #number of features. Here n=2\n",
    "n_iter=100"
   ]
  },
  {
   "cell_type": "code",
   "execution_count": 105,
   "metadata": {
    "collapsed": true
   },
   "outputs": [],
   "source": [
    "K=3"
   ]
  },
  {
   "cell_type": "code",
   "execution_count": 106,
   "metadata": {
    "collapsed": true
   },
   "outputs": [],
   "source": [
    "Centroids=np.array([]).reshape(n,0) \n",
    "for i in range(K):\n",
    "    rand=rd.randint(0,m-1)\n",
    "    Centroids=np.c_[Centroids,X[rand]]"
   ]
  },
  {
   "cell_type": "code",
   "execution_count": 107,
   "metadata": {
    "collapsed": true
   },
   "outputs": [],
   "source": [
    "Output={}\n",
    "EuclidianDistance=np.array([]).reshape(m,0)\n",
    "for k in range(K):\n",
    "    tempDist=np.sum((X-Centroids[:,k])**2,axis=1)\n",
    "    EuclidianDistance=np.c_[EuclidianDistance,tempDist]\n",
    "C=np.argmin(EuclidianDistance,axis=1)+1"
   ]
  },
  {
   "cell_type": "code",
   "execution_count": 108,
   "metadata": {
    "collapsed": true
   },
   "outputs": [],
   "source": [
    "Y={}\n",
    "for k in range(K):\n",
    "    Y[k+1]=np.array([]).reshape(4,0)\n",
    "for i in range(m):\n",
    "    Y[C[i]]=np.c_[Y[C[i]],X[i]]\n",
    "     \n",
    "for k in range(K):\n",
    "    Y[k+1]=Y[k+1].T\n",
    "    \n",
    "for k in range(K):\n",
    "     Centroids[:,k]=np.mean(Y[k+1],axis=0)\n",
    "Output=Y"
   ]
  },
  {
   "cell_type": "code",
   "execution_count": 109,
   "metadata": {},
   "outputs": [
    {
     "data": {
      "image/png": "[encoded data removed]",
      "text/plain": [
       "<Figure size 432x288 with 1 Axes>"
      ]
     },
     "metadata": {
      "needs_background": "light"
     },
     "output_type": "display_data"
    }
   ],
   "source": [
    "plt.scatter(X[:,0],X[:,1],c='black',label='unclustered data')\n",
    "plt.xlabel('Datas')\n",
    "plt.ylabel('Points')\n",
    "plt.legend()\n",
    "plt.title('Plot of data points')\n",
    "plt.show()"
   ]
  },
  {
   "cell_type": "code",
   "execution_count": 111,
   "metadata": {},
   "outputs": [
    {
     "data": {
      "image/png": "[encoded data removed]",
      "text/plain": [
       "<Figure size 432x288 with 1 Axes>"
      ]
     },
     "metadata": {
      "needs_background": "light"
     },
     "output_type": "display_data"
    }
   ],
   "source": [
    "color=['red','blue','green']\n",
    "labels=['cluster1','cluster2','cluster3']\n",
    "for k in range(K):\n",
    "    plt.scatter(Output[k+1][:,0],Output[k+1][:,1],c=color[k],label=labels[k])\n",
    "plt.scatter(Centroids[0,:],Centroids[1,:],s=200,c='yellow',label='Centroids')\n",
    "plt.xlabel('flavanoids')\n",
    "plt.ylabel('nonflavanoid_phenols')\n",
    "plt.legend()\n",
    "plt.show()"
   ]
  },
  {
   "cell_type": "markdown",
   "metadata": {},
   "source": [
    "Implementing the same algorithm using sklearn libraries"
   ]
  },
  {
   "cell_type": "markdown",
   "metadata": {},
   "source": [
    "\n",
    "Using the elbow method to find the optimal number of clusters"
   ]
  },
  {
   "cell_type": "code",
   "execution_count": 137,
   "metadata": {},
   "outputs": [
    {
     "data": {
      "image/png": "[encoded data removed]",
      "text/plain": [
       "<Figure size 432x288 with 1 Axes>"
      ]
     },
     "metadata": {
      "needs_background": "light"
     },
     "output_type": "display_data"
    }
   ],
   "source": [
    "from sklearn.cluster import KMeans\n",
    "wcss = []\n",
    "for i in range(1, 11):\n",
    "    kmeans = KMeans(n_clusters = i, init = 'k-means++', random_state = True)\n",
    "    kmeans.fit(X)\n",
    "    wcss.append(kmeans.inertia_)\n",
    "plt.plot(range(1, 11), wcss)\n",
    "plt.title('The Elbow Method')\n",
    "plt.xlabel('Number of clusters')\n",
    "plt.ylabel('WCSS')\n",
    "plt.show()"
   ]
  },
  {
   "cell_type": "code",
   "execution_count": 138,
   "metadata": {},
   "outputs": [
    {
     "data": {
      "image/png": "[encoded data removed]",
      "text/plain": [
       "<Figure size 432x288 with 1 Axes>"
      ]
     },
     "metadata": {
      "needs_background": "light"
     },
     "output_type": "display_data"
    }
   ],
   "source": [
    "# Fitting K-Means to the dataset\n",
    "kmeans = KMeans(n_clusters = 3, init = 'k-means++', random_state = True)\n",
    "y_kmeans = kmeans.fit_predict(X)\n",
    "# Visualising the clusters\n",
    "plt.scatter(X[y_kmeans == 0, 0], X[y_kmeans == 0, 1], s = 50, c = 'red', label = 'Cluster 1')\n",
    "plt.scatter(X[y_kmeans == 1, 0], X[y_kmeans == 1, 1], s = 50, c = 'blue', label = 'Cluster 2')\n",
    "plt.scatter(X[y_kmeans == 2, 0], X[y_kmeans == 2, 1], s = 50, c = 'green', label = 'Cluster 3')\n",
    "plt.scatter(kmeans.cluster_centers_[:, 0], kmeans.cluster_centers_[:, 1], s = 300, c = 'yellow', label = 'Centroids')\n",
    "plt.title('Wine data')\n",
    "plt.xlabel('Variables')\n",
    "plt.ylabel('Clustering')\n",
    "plt.legend()\n",
    "plt.show()"
   ]
  },
  {
   "cell_type": "code",
   "execution_count": null,
   "metadata": {
    "collapsed": true
   },
   "outputs": [],
   "source": []
  }
 ],
 "metadata": {
  "kernelspec": {
   "display_name": "Python 3",
   "language": "python",
   "name": "python3"
  },
  "language_info": {
   "codemirror_mode": {
    "name": "ipython",
    "version": 3
   },
   "file_extension": ".py",
   "mimetype": "text/x-python",
   "name": "python",
   "nbconvert_exporter": "python",
   "pygments_lexer": "ipython3",
   "version": "3.6.3"
  }
 },
 "nbformat": 4,
 "nbformat_minor": 2
}
